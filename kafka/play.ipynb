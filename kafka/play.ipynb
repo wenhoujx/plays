{
 "cells": [
  {
   "cell_type": "code",
   "execution_count": 18,
   "metadata": {},
   "outputs": [],
   "source": [
    "import kafka \n",
    "host = 'localhost:9092'\n",
    "topic = 'test-topic'"
   ]
  },
  {
   "cell_type": "code",
   "execution_count": 19,
   "metadata": {},
   "outputs": [
    {
     "data": {
      "text/plain": [
       "{'test'}"
      ]
     },
     "execution_count": 19,
     "metadata": {},
     "output_type": "execute_result"
    }
   ],
   "source": [
    "consumer = kafka.KafkaConsumer(group_id='test', bootstrap_servers=[host])\n",
    "producer = kafka.KafkaProducer(bootstrap_servers='localhost:9092')\n",
    "consumer.topics()\n"
   ]
  },
  {
   "cell_type": "code",
   "execution_count": 27,
   "metadata": {},
   "outputs": [
    {
     "data": {
      "text/plain": [
       "RecordMetadata(topic='test-topic', partition=0, topic_partition=TopicPartition(topic='test-topic', partition=0), offset=3, timestamp=1694198571072, log_start_offset=0, checksum=None, serialized_key_size=-1, serialized_value_size=13, serialized_header_size=-1)"
      ]
     },
     "execution_count": 27,
     "metadata": {},
     "output_type": "execute_result"
    }
   ],
   "source": [
    "# Initialize the Kafka producer\n",
    "message = 'Hello, Kafka!'\n",
    "producer.send(topic, value=message.encode('utf-8')).get()\n",
    "\n",
    "\n"
   ]
  },
  {
   "cell_type": "code",
   "execution_count": 28,
   "metadata": {},
   "outputs": [
    {
     "name": "stdout",
     "output_type": "stream",
     "text": [
      "dict_values([[ConsumerRecord(topic='test-topic', partition=0, offset=3, timestamp=1694198571072, timestamp_type=0, key=None, value=b'Hello, Kafka!', headers=[], checksum=None, serialized_key_size=-1, serialized_value_size=13, serialized_header_size=-1)]])\n"
     ]
    }
   ],
   "source": [
    "consumer.subscribe([topic])\n",
    "msg = consumer.poll(timeout_ms=1000)\n",
    "print(msg.values())"
   ]
  }
 ],
 "metadata": {
  "kernelspec": {
   "display_name": ".venv",
   "language": "python",
   "name": "python3"
  },
  "language_info": {
   "codemirror_mode": {
    "name": "ipython",
    "version": 3
   },
   "file_extension": ".py",
   "mimetype": "text/x-python",
   "name": "python",
   "nbconvert_exporter": "python",
   "pygments_lexer": "ipython3",
   "version": "3.10.5"
  },
  "orig_nbformat": 4
 },
 "nbformat": 4,
 "nbformat_minor": 2
}
